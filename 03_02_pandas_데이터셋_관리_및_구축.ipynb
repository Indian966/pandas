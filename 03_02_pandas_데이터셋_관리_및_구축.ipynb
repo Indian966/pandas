{
 "cells": [
  {
   "cell_type": "code",
   "execution_count": 45,
   "metadata": {
    "collapsed": true,
    "pycharm": {
     "is_executing": false,
     "name": "#%%\n"
    }
   },
   "outputs": [
    {
     "data": {
      "text/plain": "  yyyy-mm-dd\n0       2002\n1       2010",
      "text/html": "<div>\n<style scoped>\n    .dataframe tbody tr th:only-of-type {\n        vertical-align: middle;\n    }\n\n    .dataframe tbody tr th {\n        vertical-align: top;\n    }\n\n    .dataframe thead th {\n        text-align: right;\n    }\n</style>\n<table border=\"1\" class=\"dataframe\">\n  <thead>\n    <tr style=\"text-align: right;\">\n      <th></th>\n      <th>yyyy-mm-dd</th>\n    </tr>\n  </thead>\n  <tbody>\n    <tr>\n      <th>0</th>\n      <td>2002</td>\n    </tr>\n    <tr>\n      <th>1</th>\n      <td>2010</td>\n    </tr>\n  </tbody>\n</table>\n</div>"
     },
     "metadata": {},
     "output_type": "execute_result",
     "execution_count": 45
    }
   ],
   "source": [
    "import pandas as pd\n",
    "from _collections import OrderedDict\n",
    "data_frame = pd.read_csv('friend_list.csv')\n",
    "data_frame.age\n",
    "\n",
    "friend_dict_list = [\n",
    "    {'name' : 'John', 'age' : 25, 'job' : 'student'},\n",
    "    {'name' : 'Jenny', 'age' : 20, 'job' : 'developer'},\n",
    "    {'name' : 'Nate', 'age' : 30, 'job' : 'teacher'} \n",
    "]\n",
    "df = pd.DataFrame(friend_dict_list)\n",
    "\n",
    "\n",
    "friend_ordered_list = (\n",
    "    [\n",
    "        ('name', ['John', 'Nate']),\n",
    "        ('age', [25, 30]),\n",
    "        ('job', ['student', 'teacher'])\n",
    "    ]\n",
    ")\n",
    "df = pd.DataFrame(friend_ordered_list)\n",
    "\n",
    "friend_list = [\n",
    "    ['John', 25, 'student'],\n",
    "    ['Nate', 30, 'teacher']\n",
    "]\n",
    "column_name = ['name', 'age', 'job']\n",
    "df = pd.DataFrame.from_records(friend_list,columns = column_name)\n",
    "\n",
    "friend_list = [\n",
    "        ['name', ['John', 'Nate']],\n",
    "        ['age', [25, 30]],\n",
    "        ['job', ['student', ]]\n",
    "]\n",
    "df.to_csv('friends_1.csv', index=False, header=False, na_rep='-')\n",
    "df = pd.DataFrame(friend_dict_list)\n",
    "df['salary'] = 0\n",
    "import numpy as np\n",
    "df['salary'] = np.where(df['job'] != 'student', 'yes', 'no')\n",
    "friend_test_list = [\n",
    "    {'name' : 'John', 'midterm' : 90, 'final' : 95},\n",
    "    {'name' : 'Jenny', 'midterm' : 70, 'final' : 75},\n",
    "    {'name' : 'Nate', 'midterm' : 30, 'final' : 50} \n",
    "]\n",
    "df = pd.DataFrame(friend_test_list)\n",
    "df['total'] = df['midterm'] + df['final']\n",
    "df['average'] = df['total'] / 2\n",
    "grade = []\n",
    "for row in df['average'] :\n",
    "    if row >= 90 :\n",
    "        grade.append('A')\n",
    "    elif row >= 70 :\n",
    "        grade.append('B')\n",
    "    else :\n",
    "        grade.append('F')\n",
    "df['grade'] = grade\n",
    "\n",
    "def pass_or_fail(row) :\n",
    "    if row != 'F' :\n",
    "        return 'Pass'\n",
    "    else :\n",
    "        return 'Fail'\n",
    "df.grade = df.grade.apply(pass_or_fail)\n",
    "\n",
    "date_list = [\n",
    "    {\n",
    "        'yyyy-mm-dd' : '2002-05-31'\n",
    "    },\n",
    "    {\n",
    "        'yyyy-mm-dd' : '2010-06-27'\n",
    "    }\n",
    "]\n",
    "df = pd.DataFrame(date_list, columns=['yyyy-mm-dd'])\n",
    "def extract_year (row) : \n",
    "    return row.split('-')[0]\n",
    "df['yyyy-mm-dd'] = df['yyyy-mm-dd'].apply(extract_year)\n",
    "df"
   ]
  }
 ],
 "metadata": {
  "kernelspec": {
   "display_name": "Python 3",
   "language": "python",
   "name": "python3"
  },
  "language_info": {
   "codemirror_mode": {
    "name": "ipython",
    "version": 2
   },
   "file_extension": ".py",
   "mimetype": "text/x-python",
   "name": "python",
   "nbconvert_exporter": "python",
   "pygments_lexer": "ipython2",
   "version": "2.7.6"
  },
  "pycharm": {
   "stem_cell": {
    "cell_type": "raw",
    "source": [],
    "metadata": {
     "collapsed": false
    }
   }
  }
 },
 "nbformat": 4,
 "nbformat_minor": 0
}